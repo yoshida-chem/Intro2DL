{
 "cells": [
  {
   "cell_type": "markdown",
   "metadata": {
    "tags": []
   },
   "source": [
    "# 損失関数\n",
    "\n",
    "ここでは、さまざまなタスクに使用される損失関数を見ていきます。"
   ]
  },
  {
   "cell_type": "code",
   "execution_count": 3,
   "metadata": {},
   "outputs": [],
   "source": [
    "import os\n",
    "import json\n",
    "import math\n",
    "import japanize_matplotlib\n",
    "import numpy as np \n",
    "import time\n",
    "import copy\n",
    "import requests\n",
    "from io import StringIO\n",
    "\n",
    "import pandas as pd\n",
    "import matplotlib.pyplot as plt\n",
    "from matplotlib import cm\n",
    "import seaborn as sns\n",
    "sns.set()\n",
    "\n",
    "from tqdm import tqdm\n",
    "\n",
    "from sklearn.metrics import mean_squared_error\n",
    "\n",
    "import torch\n",
    "import torch.nn as nn\n",
    "import torch.optim as optim\n",
    "import torch.nn.functional as F\n",
    "import torch.utils.data as data\n",
    "\n",
    "def set_seed(seed):\n",
    "    np.random.seed(seed)\n",
    "    torch.manual_seed(seed)\n",
    "    if torch.cuda.is_available():\n",
    "        # GPUありの場合\n",
    "        torch.cuda.manual_seed(seed)\n",
    "        torch.cuda.manual_seed_all(seed)\n",
    "        torch.backends.cudnn.deterministic = True\n",
    "        torch.backends.cudnn.benchmark = False\n",
    "\n",
    "def get_device():\n",
    "    if torch.cuda.is_available():\n",
    "        device = torch.device(\"cuda:0\")\n",
    "    elif torch.backends.mps.is_built():\n",
    "        device = torch.device(\"mps:0\")\n",
    "    else:\n",
    "        device = torch.device(\"cpu\")\n",
    "    return device"
   ]
  },
  {
   "cell_type": "code",
   "execution_count": 4,
   "metadata": {},
   "outputs": [
    {
     "name": "stdout",
     "output_type": "stream",
     "text": [
      "deviceはmps:0です\n"
     ]
    }
   ],
   "source": [
    "# pytorchでデータをダウンロードするときのパス（重複してDWしないため）\n",
    "DATASET_PATH = \"../data\"\n",
    "# モデルの保存先\n",
    "CHECKPOINT_PATH = \"../models/06_loss_fn\"\n",
    "os.makedirs(DATASET_PATH, exist_ok=True)\n",
    "os.makedirs(CHECKPOINT_PATH, exist_ok=True)\n",
    "\n",
    "# 再現性のためにseedを固定する\n",
    "set_seed(42)\n",
    "\n",
    "# device情報を取得する\n",
    "device = get_device()\n",
    "print(f\"deviceは{device}です\")"
   ]
  },
  {
   "cell_type": "markdown",
   "metadata": {},
   "source": [
    "#### 準備\n",
    "\n",
    "0~9までの手書き数字画像のデータセットであるMNISTのデータをダウンロードします。"
   ]
  },
  {
   "cell_type": "code",
   "execution_count": 5,
   "metadata": {},
   "outputs": [],
   "source": [
    "import torchvision\n",
    "from torchvision.datasets import MNIST\n",
    "from torchvision import transforms\n",
    "\n",
    "# __getitem__()で取得する各画像に対して行う変換。ここではTensor化と正規化\n",
    "transform = transforms.Compose([transforms.ToTensor(), \n",
    "                                transforms.Normalize((0.13060), (0.30811),)])\n",
    "\n",
    "# 訓練データのダウンロードとデータの分割\n",
    "train_dataset = MNIST(root=DATASET_PATH, train=True, transform=transform, download=True)\n",
    "train_set, val_set = torch.utils.data.random_split(train_dataset, [50000, 10000])\n",
    "\n",
    "# テストデータのダウンロード\n",
    "test_set = MNIST(root=DATASET_PATH, train=False, transform=transform, download=True)\n",
    "\n",
    "# DataLoaderの定義\n",
    "# 実際のより大きな画像/モデルの場合はbatch_sizeはメモリに制限があり、より少なく設定されると思われます\n",
    "train_loader = data.DataLoader(train_set, batch_size=1024, shuffle=True, drop_last=False)\n",
    "val_loader = data.DataLoader(val_set, batch_size=1024, shuffle=False, drop_last=False)\n",
    "test_loader = data.DataLoader(test_set, batch_size=1024, shuffle=False, drop_last=False)"
   ]
  },
  {
   "cell_type": "code",
   "execution_count": 6,
   "metadata": {},
   "outputs": [
    {
     "name": "stdout",
     "output_type": "stream",
     "text": [
      "Mean 0.13066047430038452\n",
      "Std 0.30810782313346863\n"
     ]
    }
   ],
   "source": [
    "# もしNormalizeの平均と標準偏差を決め打ちで0.5としない場合は、以下のように元訓練画像群から計算した平均と標準偏差を指定します\n",
    "print(\"Mean\", (train_dataset.data.float() / 255.0).mean().item())\n",
    "print(\"Std\", (train_dataset.data.float() / 255.0).std().item())"
   ]
  },
  {
   "cell_type": "code",
   "execution_count": 7,
   "metadata": {},
   "outputs": [
    {
     "name": "stdout",
     "output_type": "stream",
     "text": [
      "Mean: -0.001\n",
      "Standard deviation: 0.998\n",
      "Maximum: 2.822\n",
      "Minimum: -0.424\n"
     ]
    }
   ],
   "source": [
    "# 1batchに対して各統計量を計算して確認します\n",
    "# 1batchなので厳密に平均０、標準偏差１になってはないですが確認できました。\n",
    "imgs, _ = next(iter(train_loader))\n",
    "print(f\"Mean: {imgs.mean().item():5.3f}\")\n",
    "print(f\"Standard deviation: {imgs.std().item():5.3f}\")\n",
    "print(f\"Maximum: {imgs.max().item():5.3f}\")\n",
    "print(f\"Minimum: {imgs.min().item():5.3f}\")"
   ]
  },
  {
   "cell_type": "code",
   "execution_count": 8,
   "metadata": {},
   "outputs": [
    {
     "data": {
      "image/png": "[encoded data removed]",
      "text/plain": [
       "<Figure size 800x800 with 1 Axes>"
      ]
     },
     "metadata": {},
     "output_type": "display_data"
    }
   ],
   "source": [
    "# ここでデータを可視化してみます\n",
    "exmp_imgs = [train_set[i][0] for i in range(16)]\n",
    "img_grid = torchvision.utils.make_grid(torch.stack(exmp_imgs, dim=0), nrow=4, normalize=True, pad_value=1)\n",
    "img_grid = img_grid.permute(1, 2, 0)\n",
    "\n",
    "plt.figure(figsize=(8,8))\n",
    "plt.title(\"FashionMNIST examples\")\n",
    "plt.imshow(img_grid)\n",
    "plt.axis('off')\n",
    "plt.show()\n",
    "plt.close()"
   ]
  },
  {
   "cell_type": "markdown",
   "metadata": {},
   "source": [
    "また、回帰用にBostonDatasetをダウンロードします。"
   ]
  },
  {
   "cell_type": "code",
   "execution_count": 9,
   "metadata": {},
   "outputs": [],
   "source": [
    "link = r\"https://raw.githubusercontent.com/eric-bunch/boston_housing/master/boston.csv\"\n",
    "f = requests.get(link)\n",
    "\n",
    "df = pd.read_csv(StringIO(f.text), sep=\",\")\n",
    "df.to_csv(f\"{DATASET_PATH}/boston.csv\")"
   ]
  },
  {
   "cell_type": "markdown",
   "metadata": {},
   "source": [
    "**その他の関数群を定義**"
   ]
  },
  {
   "cell_type": "code",
   "execution_count": 10,
   "metadata": {},
   "outputs": [],
   "source": [
    "def _get_config_file(model_path, model_name):\n",
    "    return os.path.join(model_path, model_name + \".config\")\n",
    "\n",
    "def _get_model_file(model_path, model_name):\n",
    "    return os.path.join(model_path, model_name + \".tar\")\n",
    "\n",
    "def _get_result_file(model_path, model_name):\n",
    "    return os.path.join(model_path, model_name + \"_results.json\")\n",
    "\n",
    "def load_model(model_path, model_name, net=None, base=None):\n",
    "    config_file, model_file = _get_config_file(model_path, model_name), _get_model_file(model_path, model_name)\n",
    "    assert os.path.isfile(config_file), f\"Could not find the config file \\\"{config_file}\\\". Are you sure this is the correct path and you have your model config stored here?\"\n",
    "    assert os.path.isfile(model_file), f\"Could not find the model file \\\"{model_file}\\\". Are you sure this is the correct path and you have your model stored here?\"\n",
    "    with open(config_file, \"r\") as f:\n",
    "        config_dict = json.load(f)\n",
    "    if net is None:\n",
    "        net = base(**config_dict)\n",
    "    net.load_state_dict(torch.load(model_file))\n",
    "    return net\n",
    "    \n",
    "def save_model(model, model_path, model_name):\n",
    "    config_dict = model.config\n",
    "    os.makedirs(model_path, exist_ok=True)\n",
    "    config_file, model_file = _get_config_file(model_path, model_name), _get_model_file(model_path, model_name)\n",
    "    with open(config_file, \"w\") as f:\n",
    "        json.dump(config_dict, f)\n",
    "    torch.save(model.state_dict(), model_file)"
   ]
  },
  {
   "cell_type": "markdown",
   "metadata": {},
   "source": [
    "## 回帰\n",
    "\n",
    "まずは回帰分析を行います。"
   ]
  },
  {
   "cell_type": "markdown",
   "metadata": {},
   "source": [
    "**dataloaderの準備**"
   ]
  },
  {
   "cell_type": "code",
   "execution_count": 11,
   "metadata": {},
   "outputs": [],
   "source": [
    "df_boston = pd.read_csv(f\"{DATASET_PATH}/boston.csv\", index_col=0)\n",
    "\n",
    "# Xとyに分割\n",
    "y_column = [\"MDEV\"]\n",
    "X_columns = ['CRIM', 'ZN', 'INDUS', 'CHAS', 'NOX', 'RM', 'AGE', 'DIS', 'RAD', 'TAX',\n",
    "       'PTRATIO', 'B', 'LSTAT']\n",
    "X = df_boston[X_columns]\n",
    "y = df_boston[y_column]\n",
    "\n",
    "# TensorDatasetの作成\n",
    "X = torch.tensor(X.values, dtype=torch.float32)\n",
    "y = torch.tensor(y.values, dtype=torch.float32)\n",
    "dataset = data.TensorDataset(X, y)\n",
    "\n",
    "# trainとval, testに分割\n",
    "n_train = int(len(dataset) * 0.7)\n",
    "n_val = int(len(dataset) * 0.2)\n",
    "n_test = len(dataset) - n_train - n_val\n",
    "train_set, val_set, test_set = data.random_split(dataset, [n_train, n_val, n_test])\n",
    "\n",
    "# dataloaderの作成\n",
    "train_loader = data.DataLoader(train_set, 64, shuffle=True, drop_last=False)\n",
    "val_loader = data.DataLoader(val_set, n_val, shuffle=True, drop_last=False)\n",
    "test_loader = data.DataLoader(test_set, n_test, shuffle=True, drop_last=False)\n"
   ]
  },
  {
   "cell_type": "markdown",
   "metadata": {},
   "source": [
    "**訓練するときの関数を定義**"
   ]
  },
  {
   "cell_type": "code",
   "execution_count": 12,
   "metadata": {},
   "outputs": [],
   "source": [
    "def train_model(net, model_name, loss_module, max_epochs=100, batch_size=64,  patience=7):\n",
    "\n",
    "    # Defining optimizer, loss and data loader\n",
    "    optimizer = torch.optim.SGD(net.parameters(), lr=1e-2, momentum=0.9)\n",
    "    train_loader_local = data.DataLoader(train_set, batch_size=batch_size, shuffle=True, drop_last=True, pin_memory=True)\n",
    "\n",
    "    results = None\n",
    "    val_scores = []\n",
    "    train_losses  = []\n",
    "    best_val_epoch = -1\n",
    "    for epoch in range(max_epochs):\n",
    "        ############\n",
    "        # Training #\n",
    "        ############\n",
    "        net.train()\n",
    "        epoch_loss = 0.0\n",
    "        t = tqdm(train_loader_local, leave=False)\n",
    "        for x, y in t:\n",
    "            x, y = x.to(device), y.to(device)\n",
    "            optimizer.zero_grad()\n",
    "            preds = net(x)\n",
    "            loss = loss_module(preds, y)\n",
    "            loss.backward()\n",
    "            optimizer.step()\n",
    "            epoch_loss += loss.item()\n",
    "\n",
    "        epoch_loss /= len(train_loader_local)\n",
    "        train_losses.append(epoch_loss)\n",
    "\n",
    "        ##############\n",
    "        # Validation #\n",
    "        ##############\n",
    "        val_score = test_model(net, val_loader)\n",
    "        val_scores.append(val_score)\n",
    "        \n",
    "        #print(f\"[Epoch {epoch+1:2d}] Training Score: {epoch_loss:05.5f}, Validation Score: {val_score:05.5f}\")\n",
    "\n",
    "        if len(val_scores) == 1 or val_score < val_scores[best_val_epoch]:\n",
    "            best_val_epoch = epoch\n",
    "        elif best_val_epoch <= epoch - patience:\n",
    "            print(f\"Early stopping due to no improvement over the last {patience} epochs\")\n",
    "            break\n",
    "\n",
    "    test_score = test_model(net, test_loader)\n",
    "    results = {\"test_score\": test_score, \"val_scores\": val_scores, \"train_losses\": train_losses}\n",
    "            \n",
    "    # Plot a curve of the validation accuracy\n",
    "    sns.set()\n",
    "    plt.plot([i for i in range(1,len(results[\"train_losses\"])+1)], results[\"train_losses\"], label=\"Train\")\n",
    "    plt.plot([i for i in range(1,len(results[\"val_scores\"])+1)], results[\"val_scores\"], label=\"Val\")\n",
    "    plt.xlabel(\"Epochs\")\n",
    "    plt.ylabel(\"Validation Score\")\n",
    "    plt.ylim(0, 1000)\n",
    "    #plt.ylim(min(results[\"val_scores\"]), max(results[\"train_losses\"])*1.01)\n",
    "    plt.title(f\"Validation performance of {model_name}\")\n",
    "    plt.legend()\n",
    "    plt.show()\n",
    "    plt.close()\n",
    "\n",
    "    return results\n",
    "\n",
    "def test_model(net, data_loader):\n",
    "    \"\"\"\n",
    "    Test a model on a specified dataset.\n",
    "    \n",
    "    Inputs:\n",
    "        net - Trained model of type BaseNetwork\n",
    "        data_loader - DataLoader object of the dataset to test on (validation or test)\n",
    "    \"\"\"\n",
    "    net.eval()\n",
    "    \n",
    "    test_score = 0.0\n",
    "    for x, y in data_loader:\n",
    "        x, y = x.to(device), y.to(device)\n",
    "        with torch.no_grad():\n",
    "            preds = net(x)\n",
    "            mse = mean_squared_error(y.cpu().numpy(), preds.cpu().numpy())\n",
    "            test_score += mse\n",
    "    test_score /= len(data_loader)\n",
    "            \n",
    "    return test_score"
   ]
  },
  {
   "cell_type": "markdown",
   "metadata": {},
   "source": [
    "**ネットワークの定義**\n",
    "\n",
    "Bostonデータセットでは各特徴量ごとに単位が異なるので、入力層の後にBatchNormalizationを入れてスケールを統一しています。（普通に訓練データ全体で正規化したものを入力した方がいいかもしれませんが、今回は無理矢理内容に入れたかったので。。） \n",
    "\n",
    "BatchNormalizationは名前の通り、ミニバッチ内の全サンプルに対して特徴量ごとに正規化（平均が0, 分散が1になるように変換）する層になります。ただ、普通の正規化ではなく以下のように$\\beta$, $\\gamma$という学習されるパラメータがあります。また、推論時は平均や分散を計算できないので、学習時に計算された平均と分散の移動平均を用います。そのため、引数として``momentum``を持っています。バッチ正規化は多層NNを安定させたり有効な層ですが、なぜうまくいくのかははっきり分かっていないそうです。また、学習時と推論時で平均と分散に大きな差がある場合は悪影響を与える可能性があります。\n",
    "\n",
    "$$\n",
    "\\hat{u}_j = \\gamma_i \\frac{u_j - \\mu_j}{\\sqrt{\\sigma^2_j + \\epsilon}} + \\beta_j\n",
    "$$\n",
    "\n",
    "また、正則化の１種であるDropoutも入れてあります。Dropoutはネットワーク内のユニットを学習時のみランダムに削除する方法です。学習時はミニバッチ単位で確率pでランダムに選出したユニットを無効化します。推論時は学習時に比べユニット数が$\\frac{1}{1-p}$倍増えているので、出力を$1-p$倍します。これは、推論時にDropout層が単に恒等関数を計算することを意味しています。このDropoutは、オーバーフィッティングを避ける効果や擬似的なアンサンブルの効果があることが知られています。また、全結合層だけでなく、入力層など様々な層の後に使用されます。\n",
    "\n",
    "最後に、今回は出力層に恒等関数（何も設定してない）を考えましたが、yの値域が[-1:1]の場合は双曲線正接関数を選ぶなど目的とする出力域が得られるように設計します。"
   ]
  },
  {
   "cell_type": "markdown",
   "metadata": {},
   "source": [
    "**dropoutの実装**\n",
    "\n",
    "普通にnn.Dropout()を使用してもいいのですが、訓練時と推論時で挙動が異なるモジュールをどう書くのか調べるがてら実装してみました。\n",
    "訓練/推論時の情報は``self.training``に入っているのでIF文で実装できます。\n",
    "\n",
    "中身は異なりますが、https://www.kaggle.com/code/cepheidq/gaussian-dropout-for-pytorch/notebook を参考に実装しました。"
   ]
  },
  {
   "cell_type": "code",
   "execution_count": 48,
   "metadata": {},
   "outputs": [],
   "source": [
    "class Dropout(nn.Module):\n",
    "\n",
    "    def __init__(self, p: float=0.5):\n",
    "        \"\"\" 初期化\n",
    "\n",
    "        Args:\n",
    "            p (float): ユニットを無効化（0）する確率. Defaults to 0.5.\n",
    "        \"\"\"\n",
    "        super().__init__()\n",
    "        self.p = p\n",
    "\n",
    "    def forward(self, t_input):\n",
    "        \"\"\" dropout\n",
    "        訓練時はベルヌーイ分布からサンプリングした確率で無効化、推論時はそのままt_inputを返す\n",
    "        \"\"\"\n",
    "        if self.training and self.p > 0:\n",
    "            # 1-pの確率で１、pの確率で０をベルヌーイ分布からサンプリング\n",
    "            t_p = torch.ones_like(input=t_input, dtype=t_input.dtype, device=t_input.device).fill_(1. - self.p)\n",
    "            t_noise = torch.bernoulli(t_p)\n",
    "\n",
    "            t_input = t_input.mul(t_noise)\n",
    "\n",
    "        return t_input"
   ]
  },
  {
   "cell_type": "markdown",
   "metadata": {},
   "source": [
    "ちゃんと実装できているか確認してみます。確率的に値が０になっていることがわかりますね。"
   ]
  },
  {
   "cell_type": "code",
   "execution_count": 50,
   "metadata": {},
   "outputs": [
    {
     "name": "stdout",
     "output_type": "stream",
     "text": [
      "tensor([[-0.6700,  0.7942,  0.2004,  0.4637],\n",
      "        [ 0.4883,  0.1079, -1.4685, -0.4811],\n",
      "        [ 2.1797,  0.9339,  1.1797,  0.3841],\n",
      "        [ 0.7626, -1.5459,  0.6582, -0.2806]])\n",
      "tensor([[-0.6700,  0.0000,  0.2004,  0.0000],\n",
      "        [ 0.4883,  0.1079, -1.4685, -0.0000],\n",
      "        [ 2.1797,  0.9339,  1.1797,  0.0000],\n",
      "        [ 0.7626, -0.0000,  0.0000, -0.0000]])\n"
     ]
    }
   ],
   "source": [
    "dropout = Dropout()\n",
    "t_input = torch.randn((4, 4))\n",
    "print(t_input)\n",
    "t_drop = dropout.forward(t_input)\n",
    "print(t_drop)"
   ]
  },
  {
   "cell_type": "code",
   "execution_count": 51,
   "metadata": {},
   "outputs": [],
   "source": [
    "class RegressionNet(nn.Module):\n",
    "    \n",
    "    def __init__(self, act_fn=nn.ReLU, input_size=784, output_size=1, hidden_sizes=[512, 256, 256, 128]):\n",
    "        \"\"\"\n",
    "        Inputs:\n",
    "            act_fn - 今回試したい活性化関数\n",
    "            input_size - 画像のサイズ\n",
    "            num_classes - 予測したいクラス数\n",
    "            hidden_sizes - 隠れ層のサイズのリスト\n",
    "        \"\"\"\n",
    "        super().__init__()\n",
    "        \n",
    "        layers = []\n",
    "        layer_sizes = [input_size] + hidden_sizes\n",
    "        layers.append(nn.BatchNorm1d(input_size))\n",
    "        for layer_index in range(1, len(layer_sizes)):\n",
    "            layers += [nn.Linear(layer_sizes[layer_index-1], layer_sizes[layer_index]),\n",
    "                       #nn.BatchNorm1d(layer_sizes[layer_index]),\n",
    "                       act_fn(),\n",
    "                       Dropout(p=0.25)]\n",
    "        layers += [nn.Linear(layer_sizes[-1], output_size)]\n",
    "        # リスト情報からlayerを追加\n",
    "        self.layers = nn.Sequential(*layers)\n",
    "        \n",
    "        # モデルを保存/読み込む際に必要な情報を格納\n",
    "        self.config = {\"input_size\": input_size, \"output_size\": output_size, \"hidden_sizes\": hidden_sizes} \n",
    "        \n",
    "    def forward(self, x):\n",
    "        out = self.layers(x)\n",
    "        return out    "
   ]
  },
  {
   "cell_type": "code",
   "execution_count": 52,
   "metadata": {},
   "outputs": [
    {
     "data": {
      "text/plain": [
       "RegressionNet(\n",
       "  (layers): Sequential(\n",
       "    (0): BatchNorm1d(13, eps=1e-05, momentum=0.1, affine=True, track_running_stats=True)\n",
       "    (1): Linear(in_features=13, out_features=5, bias=True)\n",
       "    (2): ReLU()\n",
       "    (3): Dropout()\n",
       "    (4): Linear(in_features=5, out_features=5, bias=True)\n",
       "    (5): ReLU()\n",
       "    (6): Dropout()\n",
       "    (7): Linear(in_features=5, out_features=1, bias=True)\n",
       "  )\n",
       ")"
      ]
     },
     "execution_count": 52,
     "metadata": {},
     "output_type": "execute_result"
    }
   ],
   "source": [
    "model = RegressionNet(input_size=len(X_columns), hidden_sizes=[5, 5])\n",
    "model.to(device)"
   ]
  },
  {
   "cell_type": "markdown",
   "metadata": {},
   "source": [
    "以下の結果を見ると、訓練とバリデーションのロスを比較すると、バリデーションの方が良くなってしまっていることが確認できます。  \n",
    "たまにおきますが、以下のような理由が考えられます。今回の理由としては２か３ですかね？３はランダムに分割はしていますが、検証用データのデータ数がそこまで多くないのと、２は複雑なタスクではないので、学習中にモデルの性能が変わっている可能性があります。また、バグやリークの可能性もありますが、テストデータのMSEも72とほとんど同じなのでその可能性は低そうです。\n",
    "1. dropoutなど訓練時のみ適用されているものがある\n",
    "2. Training Lossは1エポックをかけて計算され、Validation Lossは1エポック終了時に計算される\n",
    "3. バリデーションデータに、訓練データより簡単なデータが集まっている\n",
    "\n",
    "https://masamunetogetoge.com/val-loss"
   ]
  },
  {
   "cell_type": "code",
   "execution_count": 53,
   "metadata": {},
   "outputs": [
    {
     "name": "stderr",
     "output_type": "stream",
     "text": [
      "                                                \r"
     ]
    },
    {
     "name": "stdout",
     "output_type": "stream",
     "text": [
      "Early stopping due to no improvement over the last 7 epochs\n"
     ]
    },
    {
     "data": {
      "image/png": "[encoded data removed]",
      "text/plain": [
       "<Figure size 640x480 with 1 Axes>"
      ]
     },
     "metadata": {},
     "output_type": "display_data"
    },
    {
     "name": "stdout",
     "output_type": "stream",
     "text": [
      "72.55404663085938\n"
     ]
    }
   ],
   "source": [
    "results = train_model(model, \"test\", loss_module=nn.MSELoss(), batch_size=20, max_epochs=100)\n",
    "print(results[\"test_score\"])"
   ]
  },
  {
   "cell_type": "markdown",
   "metadata": {},
   "source": [
    "## 2値分類\n",
    "\n",
    "次は入力Xを２値に分類する問題を考えます。ここでは、事後確率$p(k=1|x)$をNNによってモデル化することを考えます。\n",
    "\n",
    "$$\n",
    "p(k=1|x) = y(x; w)\n",
    "$$\n",
    "\n",
    "事後分布はk=1との時とk=0の時しかないので、以下のように表すことができます。\n",
    "\n",
    "$$\n",
    "p(k|x) = p(k=1|x)^kp(k=0|x)^{1-k}\n",
    "$$\n",
    "\n",
    "次に、最尤推定によりNNのパラメータ$w$の尤度が最大になるような$w$の値を求めます。ここで、$w$の尤度は以下のように表されます。\n",
    "\n",
    "$$\n",
    "L(w) = \\prod^N_{n=1} p(d_n|x_n; w) = \\prod^N_{n=1} (y(x_n; w))^d_n (1 - y(x_n;w))^{1-d_n}\n",
    "$$\n",
    "\n",
    "これに対して、尤度の対数をとり、符号を反転させた以下を損失関数とし、最小化していきます。\n",
    "\n",
    "$$\n",
    "E(w) = -\\sum^N_{n=1} [d_n\\log{y(x_n; w)} + (1 - d_n) \\log \\{ 1 - y(x_n; w) \\}]\n",
    "$$\n",
    "\n",
    "また、出力層に活性化関数としてシグモイド（ロジスティック）関数を持つユニットを１つだけ持つNNを考えると、事後確率$p(k=1|x)$はシグモイド（ロジスティック関数）に一致します。\n",
    "\n",
    "上記の損失関数は、pytorchでは、Binary Cross Entropy(BCE) Lossとして実装されています。BCE lossは``nn.BCELoss()``と``nn.BCEWithLogitsLoss()``の２種類あります。``nn.BCEWithLogitsLoss()``はSigmoidの層とBCE lossが１つのクラスになったもので、１つに結合することでlog-sum-exp trickにより数値的に安定します。そのため、今回はモデルの定義のところではSigmoidの層を抜きにして、ロスに``nn.BCEWithLogitsLoss()`を使用します。\n",
    "https://pytorch.org/docs/stable/generated/torch.nn.BCEWithLogitsLoss.html#torch.nn.BCEWithLogitsLoss\n",
    "\n",
    "また、上記の損失関数を使わなくても下記の多クラス分類のクラス数２の場合で定式化することも可能です。"
   ]
  },
  {
   "cell_type": "code",
   "execution_count": 55,
   "metadata": {},
   "outputs": [],
   "source": [
    "# こちらは最初のXORの例題で実施したのでコードはパスします。"
   ]
  },
  {
   "cell_type": "markdown",
   "metadata": {},
   "source": [
    "## 多クラス分類\n",
    "\n",
    "次に入力$x$を有限個のクラスに分類する問題を考えます。  \n",
    "このような場合、ネットワークの出力層には分類したいクラス数Kと同じ数のユニットを並べ、この層の活性化関数としてソフトマックス関数を選びます。この時、出力層$L$の出力層のk番目のユニットの出力は以下のように表されます。この時、出力$y_1$, ..., $y_k$の総和は１になります。\n",
    "\n",
    "$$\n",
    "y_k = z_k^{(L)} = \\frac{exp(u_k^{L})}{\\sum_{j=1}^K exp(u_j^{(L)})}\n",
    "$$\n",
    "\n",
    "ここで、入力$x$がクラス$k$に属するという事象を$C_k$と書き、上記の出力層のユニット$k$の出力$y_k$は、与えられた入力$x$がクラス$C_k$に属する確率を表すものと解釈します。この時、入力$x$をこの確率が最大になるクラスに分類することにします。このクラスの確率のことをスコアと呼びます。\n",
    "\n",
    "$$\n",
    "p(C_k|x) = y_k = z_k^{(L)}\n",
    "$$\n",
    "\n",
    "ここで、訓練データとしては、入力$x_n$に対して出力$d_n=[d_{n1} ・・・ d_{nK}]^T$によって表現するとします。この時、$d_n$の各成分$d_{nk}$は対応するクラスが真クラスの場合のみ１になり、それ以外は０を取ります。\n",
    "\n",
    "このようにとると、事後分布は２値分類の時と同様に以下のように表されます。\n",
    "\n",
    "$$\n",
    "p(d|x) = \\prod_{k=1}^K p(C_k|x)^{d_K}\n",
    "$$\n",
    "\n",
    "以上より、訓練データに対する$w$の尤度は以下のようになります。\n",
    "\n",
    "$$\n",
    "L(w) = \\prod_{n=1}^N p(d_n|x_n; w) = \\prod_{n=1}^N \\prod_{k=1}^K p(C_k|x_n)^{d_{nk}} = \\prod_{n=1}^N \\prod_{k=1}^K (y_k(x; w))^{d_{nk}}\n",
    "$$\n",
    "\n",
    "この尤度の対数をとり、符号を反転させてものを損失関数とし、最小化していきます。この関数は、交差エントロピーと呼ばれます。\n",
    "\n",
    "$$\n",
    "E(w) = - \\sum_{n=1}^N \\sum_{k=1}^K d_{nk} \\log y_k(x_n; w)\n",
    "$$\n",
    "\n",
    "ここで、$x_n$の正解クラスを$k_n$と書くと以下のように書くことができます。一方、正解がクラスの確率分布として与えられる場合は上式のまま使用されます。\n",
    "\n",
    "$$\n",
    "E(w) = - \\sum_{n=1}^N \\log y_k(x_n; w)\n",
    "$$\n",
    "\n",
    "\n",
    "pytorchでは、``nn.CrossEntropyLoss``または、``nn.LogSoftmax``と``nn.NLLLoss``の組み合わせで実装できます。２値分類の時も同じですが、活性化関数と組み合わせた``nn.CrossEntropyLoss``を使用する場合は推論時に別途``Softmax``関数が必要になります。"
   ]
  },
  {
   "cell_type": "code",
   "execution_count": 56,
   "metadata": {},
   "outputs": [],
   "source": [
    "# 前回までにFashionMNISTで実装したのでコードはパスします"
   ]
  },
  {
   "cell_type": "markdown",
   "metadata": {},
   "source": [
    "以上で損失関数は終わりです。  \n",
    "ここまでで深層学習第2版の1-4章はカバーできたのではないでしょうか。次は画像系を見ていきたいと思います。"
   ]
  }
 ],
 "metadata": {
  "kernelspec": {
   "display_name": "Python 3 (ipykernel)",
   "language": "python",
   "name": "python3"
  },
  "language_info": {
   "codemirror_mode": {
    "name": "ipython",
    "version": 3
   },
   "file_extension": ".py",
   "mimetype": "text/x-python",
   "name": "python",
   "nbconvert_exporter": "python",
   "pygments_lexer": "ipython3",
   "version": "3.9.12"
  },
  "vscode": {
   "interpreter": {
    "hash": "8af3c9a3e8d4af82748b103937dc9dd31fe9c46ee50d6fcc9d6d272118d69b80"
   }
  }
 },
 "nbformat": 4,
 "nbformat_minor": 4
}
