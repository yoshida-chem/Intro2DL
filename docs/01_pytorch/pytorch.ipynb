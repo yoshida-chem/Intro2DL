{
 "cells": [
  {
   "cell_type": "markdown",
   "metadata": {},
   "source": [
    "# Pytorch\n",
    "\n",
    "本リポジトリでは、研究用途を中心に多く使用されているPytorchの基礎をまとめます。  "
   ]
  },
  {
   "cell_type": "code",
   "execution_count": 16,
   "metadata": {},
   "outputs": [],
   "source": [
    "import numpy as np"
   ]
  },
  {
   "cell_type": "markdown",
   "metadata": {},
   "source": [
    "**バージョンの確認**"
   ]
  },
  {
   "cell_type": "code",
   "execution_count": 3,
   "metadata": {},
   "outputs": [
    {
     "name": "stdout",
     "output_type": "stream",
     "text": [
      "1.12.1\n"
     ]
    }
   ],
   "source": [
    "import torch\n",
    "\n",
    "print(torch.__version__)"
   ]
  },
  {
   "cell_type": "markdown",
   "metadata": {},
   "source": [
    "**seedの設定**\n",
    "\n",
    "pytorchは確率的な操作が含まれます。ここでは再現性を確保するためにシードを固定しておきましょう。"
   ]
  },
  {
   "cell_type": "code",
   "execution_count": 4,
   "metadata": {},
   "outputs": [
    {
     "data": {
      "text/plain": [
       "<torch._C.Generator at 0x10c297df0>"
      ]
     },
     "execution_count": 4,
     "metadata": {},
     "output_type": "execute_result"
    }
   ],
   "source": [
    "torch.manual_seed(0)"
   ]
  },
  {
   "cell_type": "markdown",
   "metadata": {},
   "source": [
    "### Tensorの作成\n",
    "\n",
    "numpyのarrayと同様にpytorchではtensorを使用します。\n",
    "\n",
    "tensorの作成方法には以下のように複数種類存在します。"
   ]
  },
  {
   "cell_type": "code",
   "execution_count": 6,
   "metadata": {},
   "outputs": [
    {
     "name": "stdout",
     "output_type": "stream",
     "text": [
      "tensor([[[0.0000e+00, 3.6893e+19, 1.6655e-27, 0.0000e+00],\n",
      "         [1.4013e-44, 0.0000e+00, 0.0000e+00, 0.0000e+00],\n",
      "         [0.0000e+00, 0.0000e+00, 0.0000e+00, 0.0000e+00]],\n",
      "\n",
      "        [[0.0000e+00, 0.0000e+00, 0.0000e+00, 0.0000e+00],\n",
      "         [0.0000e+00, 0.0000e+00, 0.0000e+00, 0.0000e+00],\n",
      "         [0.0000e+00, 0.0000e+00, 0.0000e+00, 0.0000e+00]]])\n",
      "torch.Size([2, 3, 4])\n"
     ]
    }
   ],
   "source": [
    "# 所望の形状のTensorを作成\n",
    "x = torch.Tensor(2, 3, 4)\n",
    "print(x)\n",
    "print(x.shape)"
   ]
  },
  {
   "cell_type": "code",
   "execution_count": 8,
   "metadata": {},
   "outputs": [
    {
     "name": "stdout",
     "output_type": "stream",
     "text": [
      "tensor([[0., 0.],\n",
      "        [0., 0.]])\n",
      "torch.Size([2, 2])\n"
     ]
    }
   ],
   "source": [
    "# zero埋めのTensorを作成\n",
    "x = torch.zeros(2, 2)\n",
    "print(x)\n",
    "print(x.shape)"
   ]
  },
  {
   "cell_type": "code",
   "execution_count": 9,
   "metadata": {},
   "outputs": [
    {
     "name": "stdout",
     "output_type": "stream",
     "text": [
      "tensor([[1., 1.],\n",
      "        [1., 1.]])\n",
      "torch.Size([2, 2])\n"
     ]
    }
   ],
   "source": [
    "# 1埋めのTensorを作成\n",
    "x = torch.ones(2, 2)\n",
    "print(x)\n",
    "print(x.shape)"
   ]
  },
  {
   "cell_type": "code",
   "execution_count": 10,
   "metadata": {},
   "outputs": [
    {
     "name": "stdout",
     "output_type": "stream",
     "text": [
      "tensor([[0.4963, 0.7682],\n",
      "        [0.0885, 0.1320]])\n",
      "torch.Size([2, 2])\n"
     ]
    }
   ],
   "source": [
    "# 0~1の範囲の一様分布からランダムにサンプリングした値をもつTensorを作成\n",
    "x = torch.rand(2, 2)\n",
    "print(x)\n",
    "print(x.shape)"
   ]
  },
  {
   "cell_type": "code",
   "execution_count": 12,
   "metadata": {},
   "outputs": [
    {
     "name": "stdout",
     "output_type": "stream",
     "text": [
      "tensor([[ 0.4033,  0.8380],\n",
      "        [-0.7193, -0.4033]])\n",
      "torch.Size([2, 2])\n"
     ]
    }
   ],
   "source": [
    "# 平均0、分散１の正規分布からランダムにサンプリングした値をもつTensorを作成\n",
    "x = torch.randn(2, 2)\n",
    "print(x)\n",
    "print(x.shape)"
   ]
  },
  {
   "cell_type": "code",
   "execution_count": 13,
   "metadata": {},
   "outputs": [
    {
     "name": "stdout",
     "output_type": "stream",
     "text": [
      "tensor([1, 2, 3])\n",
      "torch.Size([3])\n"
     ]
    }
   ],
   "source": [
    "# numpy.arangeと同様なTensorを作成\n",
    "x = torch.arange(1, 4, 1)\n",
    "print(x)\n",
    "print(x.shape)"
   ]
  },
  {
   "cell_type": "code",
   "execution_count": 15,
   "metadata": {},
   "outputs": [
    {
     "name": "stdout",
     "output_type": "stream",
     "text": [
      "tensor([[1., 2.],\n",
      "        [3., 4.]])\n",
      "torch.Size([2, 2])\n"
     ]
    }
   ],
   "source": [
    "# リストと同様の値をもつTensorを作成\n",
    "x = torch.Tensor([[1, 2], [3, 4]])\n",
    "print(x)\n",
    "print(x.shape)"
   ]
  },
  {
   "cell_type": "markdown",
   "metadata": {},
   "source": [
    "### Tensor2Numpy, Numpy2Tensor\n",
    "\n",
    "CPU上で可視化等でTensorからNumpy配列へ変換する必要が出てきます。"
   ]
  },
  {
   "cell_type": "code",
   "execution_count": 20,
   "metadata": {},
   "outputs": [
    {
     "name": "stdout",
     "output_type": "stream",
     "text": [
      "tensor([2, 3])\n"
     ]
    }
   ],
   "source": [
    "# array 2 tensor\n",
    "array = np.array([2, 3])\n",
    "tensor = torch.from_numpy(array)\n",
    "print(tensor)"
   ]
  },
  {
   "cell_type": "code",
   "execution_count": 21,
   "metadata": {},
   "outputs": [
    {
     "name": "stdout",
     "output_type": "stream",
     "text": [
      "[2 3]\n"
     ]
    }
   ],
   "source": [
    "# tensor 2 array\n",
    "array_ = tensor.numpy()\n",
    "print(array_)"
   ]
  },
  {
   "cell_type": "markdown",
   "metadata": {},
   "source": [
    "### Tensor形状の変更"
   ]
  },
  {
   "cell_type": "code",
   "execution_count": 28,
   "metadata": {},
   "outputs": [
    {
     "name": "stdout",
     "output_type": "stream",
     "text": [
      "tensor([0, 1, 2, 3, 4, 5])\n",
      "tensor([[0, 1, 2],\n",
      "        [3, 4, 5]])\n",
      "tensor([[0, 3],\n",
      "        [1, 4],\n",
      "        [2, 5]])\n"
     ]
    }
   ],
   "source": [
    "x = torch.arange(0, 6, 1)\n",
    "print(x)\n",
    "\n",
    "# 形状の変更\n",
    "x = x.view(2, 3)\n",
    "print(x)\n",
    "\n",
    "# 0と1の次元を入れ替え\n",
    "x = x.permute(1, 0)\n",
    "print(x)"
   ]
  },
  {
   "cell_type": "markdown",
   "metadata": {},
   "source": [
    "### 行列積\n",
    "\n",
    "NNでよく出てくる重みと入力行列との積をみていきます。  \n",
    "適当に入力行列として$X (m \\times p)$を、重み行列として$W (p \\times n)$を考えると出力としては、$(m \\times n)$の行列が得られます。"
   ]
  },
  {
   "cell_type": "code",
   "execution_count": 35,
   "metadata": {},
   "outputs": [
    {
     "name": "stdout",
     "output_type": "stream",
     "text": [
      "tensor([[0, 1],\n",
      "        [2, 3],\n",
      "        [4, 5]])\n",
      "torch.Size([3, 2])\n"
     ]
    }
   ],
   "source": [
    "x = torch.arange(6).view(3, 2)\n",
    "print(x)\n",
    "print(x.shape)"
   ]
  },
  {
   "cell_type": "code",
   "execution_count": 37,
   "metadata": {},
   "outputs": [
    {
     "name": "stdout",
     "output_type": "stream",
     "text": [
      "tensor([[0, 1, 2, 3],\n",
      "        [4, 5, 6, 7]])\n",
      "torch.Size([2, 4])\n"
     ]
    }
   ],
   "source": [
    "w = torch.arange(8).view(2, 4)\n",
    "print(w)\n",
    "print(w.shape)"
   ]
  },
  {
   "cell_type": "code",
   "execution_count": 39,
   "metadata": {},
   "outputs": [
    {
     "name": "stdout",
     "output_type": "stream",
     "text": [
      "tensor([[ 4,  5,  6,  7],\n",
      "        [12, 17, 22, 27],\n",
      "        [20, 29, 38, 47]])\n",
      "torch.Size([3, 4])\n"
     ]
    }
   ],
   "source": [
    "o = torch.matmul(x, w)\n",
    "print(o)\n",
    "print(o.shape)"
   ]
  },
  {
   "cell_type": "markdown",
   "metadata": {},
   "source": [
    "### 自動微分と誤差逆伝播法\n",
    "\n",
    "pytorchでは自動で計算グラフが構築され、各パラメータの勾配を自動微分とチェーンルールにより計算することで得ることができます。  \n",
    "しかし、Tensorを作成したデフォルトでは、勾配を計算しないように設定されているので構築時または後で勾配を計算するように設定する必要があります。"
   ]
  },
  {
   "cell_type": "code",
   "execution_count": 48,
   "metadata": {},
   "outputs": [
    {
     "name": "stdout",
     "output_type": "stream",
     "text": [
      "False\n"
     ]
    }
   ],
   "source": [
    "# ここで、requires_grad==Trueにするにはdtypeをfloatにする必要がある\n",
    "x = torch.arange(3, dtype=torch.float32)\n",
    "print(x.requires_grad)"
   ]
  },
  {
   "cell_type": "code",
   "execution_count": 50,
   "metadata": {},
   "outputs": [
    {
     "name": "stdout",
     "output_type": "stream",
     "text": [
      "True\n"
     ]
    }
   ],
   "source": [
    "# 後から変更する方法\n",
    "x.requires_grad_(True)\n",
    "print(x.requires_grad)"
   ]
  },
  {
   "cell_type": "code",
   "execution_count": 51,
   "metadata": {},
   "outputs": [
    {
     "name": "stdout",
     "output_type": "stream",
     "text": [
      "True\n"
     ]
    }
   ],
   "source": [
    "# 最初に設定する方法\n",
    "x = torch.arange(3, dtype=torch.float32, requires_grad=True)\n",
    "print(x.requires_grad)"
   ]
  },
  {
   "cell_type": "markdown",
   "metadata": {},
   "source": [
    "**Example**\n",
    "\n",
    "ここで、パラメータを$x$として、出力$y$を最適化したい場合、私たちは勾配$\\frac{\\partial y}{\\partial x}$を得たいです。ここで、$x = (0, 1, 2)$とします。\n",
    "\n",
    "$$y = mean((x_i + 2)^2 + 3)$$"
   ]
  },
  {
   "cell_type": "code",
   "execution_count": 53,
   "metadata": {},
   "outputs": [
    {
     "name": "stdout",
     "output_type": "stream",
     "text": [
      "True\n",
      "tensor(12.6667, grad_fn=<MeanBackward0>)\n"
     ]
    }
   ],
   "source": [
    "x = torch.arange(3, dtype=torch.float32, requires_grad=True)\n",
    "print(x.requires_grad)\n",
    "\n",
    "# ここでは簡単のために別々に計算しています\n",
    "a = x + 2\n",
    "b = a ** 2\n",
    "c = b + 3\n",
    "y = c.mean()\n",
    "\n",
    "print(y)"
   ]
  },
  {
   "cell_type": "markdown",
   "metadata": {},
   "source": [
    "以上で計算できたので、誤差逆伝播法にて勾配を求めます。  \n",
    "``.backward()``により、``requires_grad==True``のTensorに対して勾配が自動で計算されます。  \n",
    "この結果は手計算でも確認できますが、正しく計算できていることを確認できました。"
   ]
  },
  {
   "cell_type": "code",
   "execution_count": 54,
   "metadata": {},
   "outputs": [
    {
     "name": "stdout",
     "output_type": "stream",
     "text": [
      "None\n"
     ]
    }
   ],
   "source": [
    "# backward()前はNone\n",
    "print(x.grad)"
   ]
  },
  {
   "cell_type": "code",
   "execution_count": 55,
   "metadata": {},
   "outputs": [],
   "source": [
    "y.backward()"
   ]
  },
  {
   "cell_type": "code",
   "execution_count": 56,
   "metadata": {},
   "outputs": [
    {
     "name": "stdout",
     "output_type": "stream",
     "text": [
      "tensor([1.3333, 2.0000, 2.6667])\n"
     ]
    }
   ],
   "source": [
    "print(x.grad)"
   ]
  },
  {
   "cell_type": "markdown",
   "metadata": {},
   "source": [
    "### GPU CPU MPS\n",
    "\n",
    "MLの分野ではGPUが非常によく使用されていますが、上記で作成したTensorはすべてCPU上で作成されています。  \n",
    "そのため、物理的に離れたGPU上で操作するためには、明示的に指定してあげる必要があります。\n",
    "\n",
    "ここでは、MacのGPUであるMPSの例を挙げようと思ったのですが、今のバージョン（1.12.1）でバグが見つかったので今回はCPUのみで行います。  \n",
    "しかし、今後進むにつれて重い計算を行う際にGPUを使用することもあると思うので、ここではCPU上でもGPU上でも動作するようにコードを書いていきましょう。"
   ]
  },
  {
   "cell_type": "code",
   "execution_count": 62,
   "metadata": {},
   "outputs": [
    {
     "name": "stdout",
     "output_type": "stream",
     "text": [
      "Is the GPU available? False\n",
      "Device cpu\n"
     ]
    }
   ],
   "source": [
    "# GPUなしのローカルのPCで実行しているのでFalseになっています\n",
    "gpu_avail = torch.cuda.is_available()\n",
    "print(f\"Is the GPU available? {gpu_avail}\")\n",
    "\n",
    "device = torch.device(\"cuda\") if torch.cuda.is_available() else torch.device(\"cpu\")\n",
    "print(\"Device\", device)"
   ]
  },
  {
   "cell_type": "code",
   "execution_count": 67,
   "metadata": {},
   "outputs": [
    {
     "name": "stdout",
     "output_type": "stream",
     "text": [
      "tensor([0, 1, 2])\n",
      "tensor([0, 1, 2], device='mps:0')\n"
     ]
    }
   ],
   "source": [
    "# CPUの場合はtensorの右側に何も表示されない\n",
    "x = torch.arange(3)\n",
    "x = x.to(device)\n",
    "print(x)\n",
    "\n",
    "# ここでは、MacのGPUを使用しているので、device=\"mps:0\"になっていることが確認できます\n",
    "x = x.to(\"mps\")\n",
    "print(x)"
   ]
  },
  {
   "cell_type": "markdown",
   "metadata": {},
   "source": [
    "また、GPUで計算を行う際は以下の設定をすることで計算の再現性が取れるようにしましょう。  \n",
    "この設定をしてもGPUが物理的に異なる場合は結果も合わないですが、同じGPUを使用したときに再現できるようにするためです。"
   ]
  },
  {
   "cell_type": "code",
   "execution_count": 68,
   "metadata": {},
   "outputs": [],
   "source": [
    "if torch.cuda.is_available(): \n",
    "    torch.cuda.manual_seed(42)\n",
    "    torch.cuda.manual_seed_all(42)\n",
    "\n",
    "torch.backends.cudnn.deterministic = True\n",
    "torch.backends.cudnn.benchmark = False"
   ]
  },
  {
   "cell_type": "code",
   "execution_count": null,
   "metadata": {},
   "outputs": [],
   "source": []
  }
 ],
 "metadata": {
  "kernelspec": {
   "display_name": "Python 3 (ipykernel)",
   "language": "python",
   "name": "python3"
  },
  "language_info": {
   "codemirror_mode": {
    "name": "ipython",
    "version": 3
   },
   "file_extension": ".py",
   "mimetype": "text/x-python",
   "name": "python",
   "nbconvert_exporter": "python",
   "pygments_lexer": "ipython3",
   "version": "3.9.12"
  },
  "vscode": {
   "interpreter": {
    "hash": "29245d2f2026c0c2211617f16a0c2136d90dfa74660dccc3aeac277791bb3914"
   }
  }
 },
 "nbformat": 4,
 "nbformat_minor": 2
}
